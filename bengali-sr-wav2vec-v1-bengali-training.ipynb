{
 "metadata": {
  "kernelspec": {
   "language": "python",
   "display_name": "Python 3",
   "name": "python3"
  },
  "language_info": {
   "pygments_lexer": "ipython3",
   "nbconvert_exporter": "python",
   "version": "3.6.4",
   "file_extension": ".py",
   "codemirror_mode": {
    "name": "ipython",
    "version": 3
   },
   "name": "python",
   "mimetype": "text/x-python"
  }
 },
 "nbformat_minor": 4,
 "nbformat": 4,
 "cells": [
  {
   "cell_type": "markdown",
   "source": [
    "- This is a training demo, you can run this code locally, using better GPUs.\n",
    "- The inference part is here: [Bengali SR wav2vec_v1_bengali [Inference]](https://www.kaggle.com/takanashihumbert/bengali-sr-wav2vec-v1-bengali-inference), it scores **0.445** on the leaderboard.\n",
    "- Feel free to upvote, thanks!"
   ],
   "metadata": {}
  },
  {
   "cell_type": "code",
   "source": [
    "!cp -r ../input/python-packages2 ./"
   ],
   "metadata": {
    "execution": {
     "iopub.status.busy": "2023-10-16T03:32:05.488347Z",
     "iopub.execute_input": "2023-10-16T03:32:05.488655Z",
     "iopub.status.idle": "2023-10-16T03:32:06.816891Z",
     "shell.execute_reply.started": "2023-10-16T03:32:05.488629Z",
     "shell.execute_reply": "2023-10-16T03:32:06.815363Z"
    },
    "trusted": true
   },
   "execution_count": null,
   "outputs": []
  },
  {
   "cell_type": "code",
   "source": [
    "!tar xvfz ./python-packages2/jiwer.tgz\n",
    "!pip install ./jiwer/jiwer-2.3.0-py3-none-any.whl -f ./ --no-index"
   ],
   "metadata": {
    "execution": {
     "iopub.status.busy": "2023-10-16T03:32:06.819175Z",
     "iopub.execute_input": "2023-10-16T03:32:06.819917Z",
     "iopub.status.idle": "2023-10-16T03:32:10.675363Z",
     "shell.execute_reply.started": "2023-10-16T03:32:06.819875Z",
     "shell.execute_reply": "2023-10-16T03:32:10.674053Z"
    },
    "trusted": true
   },
   "execution_count": null,
   "outputs": []
  },
  {
   "cell_type": "code",
   "source": [
    "!tar xvfz ./python-packages2/normalizer.tgz\n",
    "!pip install ./normalizer/bnunicodenormalizer-0.0.24.tar.gz -f ./ --no-index\n",
    "!tar xvfz ./python-packages2/pyctcdecode.tgz\n",
    "!pip install ./pyctcdecode/attrs-22.1.0-py2.py3-none-any.whl -f ./ --no-index --no-deps\n",
    "!pip install ./pyctcdecode/exceptiongroup-1.0.0rc9-py3-none-any.whl -f ./ --no-index --no-deps\n",
    "!pip install ./pyctcdecode/hypothesis-6.54.4-py3-none-any.whl -f ./ --no-index --no-deps\n",
    "!pip install ./pyctcdecode/numpy-1.21.6-cp37-cp37m-manylinux_2_12_x86_64.manylinux2010_x86_64.whl -f ./ --no-index --no-deps\n",
    "!pip install ./pyctcdecode/pygtrie-2.5.0.tar.gz -f ./ --no-index --no-deps\n",
    "!pip install ./pyctcdecode/sortedcontainers-2.4.0-py2.py3-none-any.whl -f ./ --no-index --no-deps\n",
    "!pip install ./pyctcdecode/pyctcdecode-0.4.0-py2.py3-none-any.whl -f ./ --no-index --no-deps\n",
    "\n",
    "!tar xvfz ./python-packages2/pypikenlm.tgz\n",
    "!pip install ./pypikenlm/pypi-kenlm-0.1.20220713.tar.gz -f ./ --no-index --no-deps"
   ],
   "metadata": {
    "_uuid": "8f2839f25d086af736a60e9eeb907d3b93b6e0e5",
    "_cell_guid": "b1076dfc-b9ad-4769-8c92-a6c4dae69d19",
    "execution": {
     "iopub.status.busy": "2023-10-16T03:32:10.680506Z",
     "iopub.execute_input": "2023-10-16T03:32:10.681261Z",
     "iopub.status.idle": "2023-10-16T03:33:12.309186Z",
     "shell.execute_reply.started": "2023-10-16T03:32:10.681218Z",
     "shell.execute_reply": "2023-10-16T03:33:12.307945Z"
    },
    "trusted": true
   },
   "execution_count": null,
   "outputs": []
  },
  {
   "cell_type": "code",
   "source": [
    "import torch \n",
    "import torch.nn as nn\n",
    "import torchaudio\n",
    "import torchaudio.transforms as tat\n",
    "from datasets import load_dataset, load_metric, Audio\n",
    "import os\n",
    "from matplotlib import pyplot as plt\n",
    "import glob\n",
    "import typing as tp\n",
    "from pathlib import Path\n",
    "from functools import partial\n",
    "from dataclasses import dataclass, field\n",
    "from typing import Any, Dict, List, Optional, Union\n",
    "import json\n",
    "import pandas as pd\n",
    "import pyctcdecode\n",
    "import numpy as np\n",
    "from tqdm.notebook import tqdm\n",
    "import shutil\n",
    "import librosa\n",
    "import gc\n",
    "import jiwer\n",
    "import pyctcdecode\n",
    "import kenlm\n",
    "import torch\n",
    "from transformers import Wav2Vec2Processor, Wav2Vec2ProcessorWithLM, Wav2Vec2ForCTC\n",
    "from transformers import TrainingArguments, Trainer, EarlyStoppingCallback\n",
    "from bnunicodenormalizer import Normalizer\n",
    "import warnings\n",
    "warnings.filterwarnings('ignore')\n",
    "torchaudio.set_audio_backend(\"soundfile\")"
   ],
   "metadata": {
    "execution": {
     "iopub.status.busy": "2023-10-16T03:33:12.312269Z",
     "iopub.execute_input": "2023-10-16T03:33:12.312575Z",
     "iopub.status.idle": "2023-10-16T03:33:26.786257Z",
     "shell.execute_reply.started": "2023-10-16T03:33:12.312546Z",
     "shell.execute_reply": "2023-10-16T03:33:26.785303Z"
    },
    "trusted": true
   },
   "execution_count": null,
   "outputs": []
  },
  {
   "cell_type": "code",
   "source": [
    "### hyper-parameters\n",
    "SR = 16000\n",
    "torch.backends.cudnn.benchmark = True\n",
    "output_dir = \"./\"\n",
    "MODEL_PATH = \"/kaggle/input/wav2vec2-speech-recognition-350000\"\n",
    "# MODEL_PATH = \"/kaggle/input/bengali-wav2vec2-finetuned\"\n",
    "LM_PATH = \"/kaggle/input/arijitx-full-model/wav2vec2-xls-r-300m-bengali/language_model\""
   ],
   "metadata": {
    "execution": {
     "iopub.status.busy": "2023-10-16T03:33:26.787459Z",
     "iopub.execute_input": "2023-10-16T03:33:26.788019Z",
     "iopub.status.idle": "2023-10-16T03:33:26.793417Z",
     "shell.execute_reply.started": "2023-10-16T03:33:26.787985Z",
     "shell.execute_reply": "2023-10-16T03:33:26.792159Z"
    },
    "trusted": true
   },
   "execution_count": null,
   "outputs": []
  },
  {
   "cell_type": "code",
   "source": [
    "processor = Wav2Vec2Processor.from_pretrained(MODEL_PATH)\n",
    "vocab_dict = processor.tokenizer.get_vocab()\n",
    "sorted_vocab_dict = {k: v for k, v in sorted(vocab_dict.items(), key=lambda item: item[1])}\n",
    "\n",
    "decoder = pyctcdecode.build_ctcdecoder(\n",
    "    list(sorted_vocab_dict.keys()),\n",
    "    str(LM_PATH+\"/5gram.bin\"),\n",
    "    str(LM_PATH+\"/unigrams.txt\"),\n",
    ")\n",
    "processor_with_lm = Wav2Vec2ProcessorWithLM(\n",
    "    feature_extractor=processor.feature_extractor,\n",
    "    tokenizer=processor.tokenizer,\n",
    "    decoder=decoder\n",
    ")"
   ],
   "metadata": {
    "execution": {
     "iopub.status.busy": "2023-10-16T03:33:26.794667Z",
     "iopub.execute_input": "2023-10-16T03:33:26.795560Z",
     "iopub.status.idle": "2023-10-16T03:34:02.375620Z",
     "shell.execute_reply.started": "2023-10-16T03:33:26.795528Z",
     "shell.execute_reply": "2023-10-16T03:34:02.374640Z"
    },
    "trusted": true
   },
   "execution_count": null,
   "outputs": []
  },
  {
   "cell_type": "markdown",
   "source": [
    "- From @mbmmurad's [Dataset overlaps with CommonVoice 11 bn](https://www.kaggle.com/code/mbmmurad/dataset-overlaps-with-commonvoice-11-bn), The competition dataset might contain the audios of the mozilla-foundation/common_voice_11_0 dataset. Here I just simply exclude them from the validation set.\n",
    "- Also, I use @UmongSain's normalized data [here](https://www.kaggle.com/code/umongsain/macro-normalization/notebook). Thanks to him!"
   ],
   "metadata": {}
  },
  {
   "cell_type": "code",
   "source": [
    "sentences = pd.read_csv(\"/kaggle/input/macro-normalization/normalized.csv\")\n",
    "indexes = set(pd.read_csv(\"/kaggle/input/dataset-overlaps-with-commonvoice-11-bn/indexes.csv\")['id'])\n",
    "print(len(sentences))\n",
    "sentences = sentences[~((sentences.index.isin(indexes))&(sentences['split']=='train'))].reset_index(drop=True)\n",
    "print(len(sentences))"
   ],
   "metadata": {
    "execution": {
     "iopub.status.busy": "2023-10-16T03:34:02.377123Z",
     "iopub.execute_input": "2023-10-16T03:34:02.377429Z",
     "iopub.status.idle": "2023-10-16T03:34:10.418024Z",
     "shell.execute_reply.started": "2023-10-16T03:34:02.377396Z",
     "shell.execute_reply": "2023-10-16T03:34:10.417066Z"
    },
    "trusted": true
   },
   "execution_count": null,
   "outputs": []
  },
  {
   "cell_type": "markdown",
   "source": [
    "* sample 10% data from \"valid\" part into validation set, 90% into training set.\n",
    "* sample 5% data from \"train\" part, and additionally sample 8% from it into validation set, 92% into training set.\n",
    "* There will be **57776** train data, **5667** valid data."
   ],
   "metadata": {}
  },
  {
   "cell_type": "code",
   "source": [
    "data_0 = sentences.loc[sentences['split']=='valid'].reset_index(drop=True)\n",
    "valid_0 = data_0.sample(frac=0.1, random_state=130)\n",
    "train_0 = data_0[~data_0.index.isin(valid_0.index)]\n",
    "\n",
    "# data_1 = sentences.loc[sentences['split']=='train'].sample(frac=0.1, random_state=42).reset_index(drop=True)\n",
    "data_1 = sentences.loc[sentences['split']=='train'].sample(frac=1, random_state=42).reset_index(drop=True)[490000: 560000]\n",
    "valid_1 = data_1.sample(frac=0.08, random_state=130)\n",
    "train_1 = data_1[~data_1.index.isin(valid_1.index)]\n",
    "\n",
    "train = pd.concat([train_0, train_1], axis=0).sample(frac=1, random_state=42).reset_index(drop=True)\n",
    "valid = pd.concat([valid_0, valid_1], axis=0).sample(frac=1, random_state=42).reset_index(drop=True)\n",
    "\n",
    "del data_0, data_1, valid_0, valid_1, train_0, train_1\n",
    "all_ids = sentences['id'].to_list()\n",
    "train_ids = train['id'].to_list()\n",
    "valid_ids = valid['id'].to_list()\n",
    "\n",
    "# in kaggle notebook, validating is very time-consuming, so here I use a very small validation set, rather than 5667.\n",
    "valid = valid.sample(n=500, random_state=42)\n",
    "\n",
    "print(len(all_ids))\n",
    "print(len(train_ids))\n",
    "print(len(valid_ids))"
   ],
   "metadata": {
    "execution": {
     "iopub.status.busy": "2023-10-16T03:34:10.421679Z",
     "iopub.execute_input": "2023-10-16T03:34:10.422587Z",
     "iopub.status.idle": "2023-10-16T03:34:11.174856Z",
     "shell.execute_reply.started": "2023-10-16T03:34:10.422553Z",
     "shell.execute_reply": "2023-10-16T03:34:11.173839Z"
    },
    "trusted": true
   },
   "execution_count": null,
   "outputs": []
  },
  {
   "cell_type": "code",
   "source": [
    "class W2v2Dataset(torch.utils.data.Dataset):\n",
    "    def __init__(self, df, is_train):\n",
    "        self.df = df\n",
    "        self.pathes = df['id'].values\n",
    "        self.sentences = df['normalized'].values\n",
    "        self.resampler = tat.Resample(32000, SR)\n",
    "        self.is_train = is_train\n",
    "\n",
    "    def __getitem__(self, idx):\n",
    "        apath = f'/kaggle/input/bengaliai-speech/train_mp3s/{self.pathes[idx]}.mp3'\n",
    "        waveform, sample_rate = torchaudio.load(apath, format=\"mp3\")\n",
    "#         if self.is_train :\n",
    "#             num_samples = sample_rate * 2\n",
    "#             transforms = [\n",
    "#     #             RandomResizedCrop(n_samples=num_samples),\n",
    "#                 RandomApply([PolarityInversion()], p=0.8),\n",
    "#                 RandomApply([Noise(min_snr=0.001, max_snr=0.005)], p=0.3),\n",
    "#                 RandomApply([Gain()], p=0.2),\n",
    "#                 HighLowPass(sample_rate=sample_rate), # this augmentation will always be applied in this aumgentation chain!\n",
    "#                 RandomApply([Delay(sample_rate=sample_rate)], p=0.5),\n",
    "#                 RandomApply([PitchShift(\n",
    "#                     n_samples=num_samples,\n",
    "#                     sample_rate=sample_rate\n",
    "#                 )], p=0.4),\n",
    "#                 RandomApply([Reverb(sample_rate=sample_rate)], p=0.3)\n",
    "#             ]\n",
    "\n",
    "#             transform = Compose(transforms=transforms)\n",
    "#             waveform =  transform(waveform)\n",
    "        waveform = self.resampler(waveform)\n",
    "        batch = dict()\n",
    "        y = processor(waveform.reshape(-1), sampling_rate=SR).input_values[0] \n",
    "        batch[\"input_values\"] = y\n",
    "        with processor.as_target_processor():\n",
    "            batch[\"labels\"] = processor(self.sentences[idx]).input_ids       \n",
    "        \n",
    "        return batch\n",
    "\n",
    "    def __len__(self):\n",
    "        return len(self.df)\n",
    "\n",
    "train_dataset = W2v2Dataset(train, is_train=True)\n",
    "valid_dataset = W2v2Dataset(valid, is_train=False)"
   ],
   "metadata": {
    "execution": {
     "iopub.status.busy": "2023-10-16T03:34:11.176321Z",
     "iopub.execute_input": "2023-10-16T03:34:11.177283Z",
     "iopub.status.idle": "2023-10-16T03:34:11.311583Z",
     "shell.execute_reply.started": "2023-10-16T03:34:11.177250Z",
     "shell.execute_reply": "2023-10-16T03:34:11.310558Z"
    },
    "trusted": true
   },
   "execution_count": null,
   "outputs": []
  },
  {
   "cell_type": "code",
   "source": [
    "@dataclass\n",
    "class DataCollatorCTCWithPadding:\n",
    "    \"\"\"\n",
    "    Data collator that will dynamically pad the inputs received.\n",
    "    Args:\n",
    "        processor (:class:`~transformers.Wav2Vec2Processor`)\n",
    "            The processor used for proccessing the data.\n",
    "        padding (:obj:`bool`, :obj:`str` or :class:`~transformers.tokenization_utils_base.PaddingStrategy`, `optional`, defaults to :obj:`True`):\n",
    "            Select a strategy to pad the returned sequences (according to the model's padding side and padding index)\n",
    "            among:\n",
    "            * :obj:`True` or :obj:`'longest'`: Pad to the longest sequence in the batch (or no padding if only a single\n",
    "              sequence if provided).\n",
    "            * :obj:`'max_length'`: Pad to a maximum length specified with the argument :obj:`max_length` or to the\n",
    "              maximum acceptable input length for the model if that argument is not provided.\n",
    "            * :obj:`False` or :obj:`'do_not_pad'` (default): No padding (i.e., can output a batch with sequences of\n",
    "              different lengths).\n",
    "        max_length (:obj:`int`, `optional`):\n",
    "            Maximum length of the ``input_values`` of the returned list and optionally padding length (see above).\n",
    "        max_length_labels (:obj:`int`, `optional`):\n",
    "            Maximum length of the ``labels`` returned list and optionally padding length (see above).\n",
    "        pad_to_multiple_of (:obj:`int`, `optional`):\n",
    "            If set will pad the sequence to a multiple of the provided value.\n",
    "            This is especially useful to enable the use of Tensor Cores on NVIDIA hardware with compute capability >=\n",
    "            7.5 (Volta).\n",
    "    \"\"\"\n",
    "\n",
    "    processor: Wav2Vec2Processor\n",
    "    padding: Union[bool, str] = True\n",
    "    max_length: Optional[int] = None\n",
    "    max_length_labels: Optional[int] = None\n",
    "    pad_to_multiple_of: Optional[int] = None\n",
    "    pad_to_multiple_of_labels: Optional[int] = None\n",
    "\n",
    "    def __call__(self, features: List[Dict[str, Union[List[int], torch.Tensor]]]) -> Dict[str, torch.Tensor]:\n",
    "        # split inputs and labels since they have to be of different lenghts and need\n",
    "        # different padding methods\n",
    "        input_features = [{\"input_values\": feature[\"input_values\"]} for feature in features]\n",
    "        label_features = [{\"input_ids\": feature[\"labels\"]} for feature in features]\n",
    "\n",
    "        batch = self.processor.pad(\n",
    "            input_features,\n",
    "            padding=self.padding,\n",
    "            max_length=self.max_length,\n",
    "            pad_to_multiple_of=self.pad_to_multiple_of,\n",
    "            return_tensors=\"pt\",\n",
    "        )\n",
    "        with self.processor.as_target_processor():\n",
    "            labels_batch = self.processor.pad(\n",
    "                label_features,\n",
    "                padding=self.padding,\n",
    "                max_length=self.max_length_labels,\n",
    "                pad_to_multiple_of=self.pad_to_multiple_of_labels,\n",
    "                return_tensors=\"pt\",\n",
    "            )\n",
    "\n",
    "        # replace padding with -100 to ignore loss correctly\n",
    "        labels = labels_batch[\"input_ids\"].masked_fill(labels_batch.attention_mask.ne(1), -100)\n",
    "\n",
    "        batch[\"labels\"] = labels\n",
    "\n",
    "        return batch"
   ],
   "metadata": {
    "execution": {
     "iopub.status.busy": "2023-10-16T03:34:11.316383Z",
     "iopub.execute_input": "2023-10-16T03:34:11.316714Z",
     "iopub.status.idle": "2023-10-16T03:34:11.327165Z",
     "shell.execute_reply.started": "2023-10-16T03:34:11.316661Z",
     "shell.execute_reply": "2023-10-16T03:34:11.326125Z"
    },
    "trusted": true
   },
   "execution_count": null,
   "outputs": []
  },
  {
   "cell_type": "code",
   "source": [
    "data_collator = DataCollatorCTCWithPadding(processor=processor, padding=True)"
   ],
   "metadata": {
    "execution": {
     "iopub.status.busy": "2023-10-16T03:34:11.328578Z",
     "iopub.execute_input": "2023-10-16T03:34:11.329428Z",
     "iopub.status.idle": "2023-10-16T03:34:11.340663Z",
     "shell.execute_reply.started": "2023-10-16T03:34:11.329380Z",
     "shell.execute_reply": "2023-10-16T03:34:11.339734Z"
    },
    "trusted": true
   },
   "execution_count": null,
   "outputs": []
  },
  {
   "cell_type": "markdown",
   "source": [
    "- In kaggle notebook, there is an error: **cannot import name 'compute_measures' from 'jiwer' (unknown location)**. But in my local notebook, there is no such error."
   ],
   "metadata": {}
  },
  {
   "cell_type": "code",
   "source": [
    "#wer_metric = load_metric(\"wer\")\n",
    "\n",
    "def compute_metrics(pred):\n",
    "    pred_logits = pred.predictions\n",
    "    pred_ids = np.argmax(pred_logits, axis=-1)\n",
    "\n",
    "    pred.label_ids[pred.label_ids == -100] = processor.tokenizer.pad_token_id\n",
    "\n",
    "    pred_str = processor.batch_decode(pred_ids)\n",
    "    # we do not want to group tokens when computing the metrics\n",
    "    label_str = processor.batch_decode(pred.label_ids, group_tokens=False)\n",
    "\n",
    "    wer = wer_metric.compute(predictions=pred_str, references=label_str)\n",
    "\n",
    "    return {\"wer\": wer}"
   ],
   "metadata": {
    "execution": {
     "iopub.status.busy": "2023-10-16T03:34:11.342148Z",
     "iopub.execute_input": "2023-10-16T03:34:11.342444Z",
     "iopub.status.idle": "2023-10-16T03:34:11.352904Z",
     "shell.execute_reply.started": "2023-10-16T03:34:11.342414Z",
     "shell.execute_reply": "2023-10-16T03:34:11.352041Z"
    },
    "trusted": true
   },
   "execution_count": null,
   "outputs": []
  },
  {
   "cell_type": "code",
   "source": [
    "model = Wav2Vec2ForCTC.from_pretrained(\n",
    "    MODEL_PATH,\n",
    "    attention_dropout=0.1,\n",
    "    hidden_dropout=0.1,\n",
    "    feat_proj_dropout=0.0,\n",
    "    mask_time_prob=0.05,\n",
    "    layerdrop=0.1,\n",
    "    #gradient_checkpointing=True, \n",
    "    ctc_loss_reduction=\"mean\", \n",
    "    pad_token_id=processor.tokenizer.pad_token_id,\n",
    "    vocab_size=len(processor.tokenizer),\n",
    "    ctc_zero_infinity=True,\n",
    "    diversity_loss_weight=100 \n",
    ")"
   ],
   "metadata": {
    "execution": {
     "iopub.status.busy": "2023-10-16T03:34:11.354087Z",
     "iopub.execute_input": "2023-10-16T03:34:11.354722Z",
     "iopub.status.idle": "2023-10-16T03:34:25.453479Z",
     "shell.execute_reply.started": "2023-10-16T03:34:11.354673Z",
     "shell.execute_reply": "2023-10-16T03:34:25.452343Z"
    },
    "trusted": true
   },
   "execution_count": null,
   "outputs": []
  },
  {
   "cell_type": "code",
   "source": [
    "# you can freeze some params\n",
    "model.freeze_feature_extractor()\n",
    "# model.freeze_feature_encoder()\n",
    "# model.freeze_base_model()"
   ],
   "metadata": {
    "execution": {
     "iopub.status.busy": "2023-10-16T03:34:25.454819Z",
     "iopub.execute_input": "2023-10-16T03:34:25.455755Z",
     "iopub.status.idle": "2023-10-16T03:34:25.460869Z",
     "shell.execute_reply.started": "2023-10-16T03:34:25.455721Z",
     "shell.execute_reply": "2023-10-16T03:34:25.459610Z"
    },
    "trusted": true
   },
   "execution_count": null,
   "outputs": []
  },
  {
   "cell_type": "markdown",
   "source": [
    "- As a demo, \"**num_train_epochs**\", \"**eval_steps**\" and \"**early_stopping_patience**\" are set to very small values, you can make them larger.\n",
    "- If there is no error about jiwer, you can set **metric_for_best_model**=\"wer\", and remember to set **greater_is_better**=False and use **compute_metrics**."
   ],
   "metadata": {}
  },
  {
   "cell_type": "code",
   "source": [
    "training_args = TrainingArguments(\n",
    "    output_dir=output_dir,\n",
    "    overwrite_output_dir=True,\n",
    "    group_by_length=False,\n",
    "    lr_scheduler_type='cosine',\n",
    "    weight_decay=0.01,\n",
    "    per_device_train_batch_size=1,\n",
    "    per_device_eval_batch_size=16,\n",
    "    gradient_accumulation_steps=1,\n",
    "    evaluation_strategy=\"steps\",\n",
    "    save_strategy=\"steps\",\n",
    "#     max_steps=200, # you can change to \"num_train_epochs\"\n",
    "    num_train_epochs = 2,\n",
    "    fp16=True,\n",
    "    save_steps=20000,\n",
    "    eval_steps=3000,\n",
    "    logging_steps=20,\n",
    "    learning_rate=2e-5, # 2e-5 6e-6\n",
    "    warmup_steps=2000, # 600\n",
    "    save_total_limit=1,\n",
    "    load_best_model_at_end=False,\n",
    "    # metric_for_best_model=\"wer\",\n",
    "    # greater_is_better=False,\n",
    "    prediction_loss_only=False,\n",
    "    # auto_find_batch_size=True,\n",
    "    report_to=\"none\",\n",
    "    dataloader_pin_memory=False\n",
    ")"
   ],
   "metadata": {
    "execution": {
     "iopub.status.busy": "2023-10-16T03:34:25.462464Z",
     "iopub.execute_input": "2023-10-16T03:34:25.463415Z",
     "iopub.status.idle": "2023-10-16T03:34:25.543593Z",
     "shell.execute_reply.started": "2023-10-16T03:34:25.463382Z",
     "shell.execute_reply": "2023-10-16T03:34:25.542726Z"
    },
    "trusted": true
   },
   "execution_count": null,
   "outputs": []
  },
  {
   "cell_type": "code",
   "source": [
    "trainer = Trainer(\n",
    "    model=model,\n",
    "    data_collator=data_collator,\n",
    "    args=training_args,\n",
    "    #compute_metrics=compute_metrics,\n",
    "    train_dataset=train_dataset,\n",
    "    eval_dataset=valid_dataset,\n",
    "    tokenizer=processor.feature_extractor,\n",
    "#     callbacks=[EarlyStoppingCallback(early_stopping_patience=50)],\n",
    ")"
   ],
   "metadata": {
    "execution": {
     "iopub.status.busy": "2023-10-16T03:34:25.544741Z",
     "iopub.execute_input": "2023-10-16T03:34:25.545291Z",
     "iopub.status.idle": "2023-10-16T03:34:31.110603Z",
     "shell.execute_reply.started": "2023-10-16T03:34:25.545253Z",
     "shell.execute_reply": "2023-10-16T03:34:31.109480Z"
    },
    "trusted": true
   },
   "execution_count": null,
   "outputs": []
  },
  {
   "cell_type": "code",
   "source": [
    "trainer.train()\n",
    "trainer.save_model(output_dir)"
   ],
   "metadata": {
    "execution": {
     "iopub.status.busy": "2023-10-16T03:34:31.112144Z",
     "iopub.execute_input": "2023-10-16T03:34:31.113009Z"
    },
    "trusted": true
   },
   "execution_count": null,
   "outputs": []
  },
  {
   "cell_type": "code",
   "source": [
    "copy_file_list = [\n",
    "    \"/kaggle/input/bengali-ex002/ex002/tokenizer_config.json\",\n",
    "    \"/kaggle/input/bengali-ex002/ex002/vocab.json\",\n",
    "    \"/kaggle/input/bengali-ex002/ex002/special_tokens_map.json\",\n",
    "]"
   ],
   "metadata": {
    "trusted": true
   },
   "execution_count": null,
   "outputs": []
  },
  {
   "cell_type": "code",
   "source": [
    "for file_path in copy_file_list:\n",
    "    shutil.copyfile(file_path, os.path.join(output_dir, os.path.basename(file_path)))"
   ],
   "metadata": {
    "trusted": true
   },
   "execution_count": null,
   "outputs": []
  },
  {
   "cell_type": "code",
   "source": [
    "for dir_name in os.listdir(\".\"):\n",
    "    dir_path = os.path.join(\".\", dir_name)\n",
    "    if not os.path.isdir(dir_path):\n",
    "        continue\n",
    "    for file_path in copy_file_list:\n",
    "        shutil.copyfile(file_path, os.path.join(dir_path, os.path.basename(file_path)))"
   ],
   "metadata": {
    "trusted": true
   },
   "execution_count": null,
   "outputs": []
  },
  {
   "cell_type": "markdown",
   "source": [
    "- To improve scores you can: \n",
    "    * use different pretrained models\n",
    "    * alter the parameters\n",
    "    * choose more data\n",
    "    * filter data in another way."
   ],
   "metadata": {}
  },
  {
   "cell_type": "code",
   "source": [
    "check_point_dir_list = glob.glob(output_dir + \"/checkpoint*\")\n",
    "check_point_dir_step_list = [int(i[i.rindex(\"-\") + 1:]) for i in check_point_dir_list]\n",
    "max_index = np.argmax(check_point_dir_step_list)\n",
    "check_point_dir = check_point_dir_list[max_index]\n",
    "json_file_path = os.path.join(check_point_dir, \"trainer_state.json\")\n",
    "\n",
    "with open(json_file_path, 'r') as fcc_file:\n",
    "    fcc_data = json.load(fcc_file)\n",
    "\n",
    "log_history = fcc_data[\"log_history\"]\n",
    "eval_loss = []\n",
    "loss = []\n",
    "\n",
    "for log in log_history:\n",
    "    if \"eval_loss\" in log.keys():\n",
    "        eval_loss.append(log[\"eval_loss\"])\n",
    "    if \"loss\" in log.keys():\n",
    "        loss.append(log[\"loss\"])"
   ],
   "metadata": {
    "trusted": true
   },
   "execution_count": null,
   "outputs": []
  },
  {
   "cell_type": "code",
   "source": [
    "plt.figure(figsize=(4, 4), dpi=300)\n",
    "plt.plot(range(len(eval_loss)), eval_loss, lw=4, ls='-', c='b', alpha=0.1)\n",
    "plt.show()"
   ],
   "metadata": {
    "trusted": true
   },
   "execution_count": null,
   "outputs": []
  },
  {
   "cell_type": "code",
   "source": [
    "plt.figure(figsize=(4, 4), dpi=300)\n",
    "plt.plot(range(len(loss)), loss, lw=4, ls='-', c='b', alpha=0.1)\n",
    "plt.show()"
   ],
   "metadata": {
    "trusted": true
   },
   "execution_count": null,
   "outputs": []
  },
  {
   "cell_type": "code",
   "source": [
    "!rm -r python-packages2\n",
    "!rm -r jiwer\n",
    "!rm -r pyctcdecode\n",
    "!rm -r pypikenlm\n",
    "!rm -r normalizer"
   ],
   "metadata": {
    "trusted": true
   },
   "execution_count": null,
   "outputs": []
  }
 ]
}
